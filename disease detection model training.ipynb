{
 "cells": [
  {
   "cell_type": "markdown",
   "metadata": {
    "id": "GqUg4hqlz-pl"
   },
   "source": [
    "# Import Libraries"
   ]
  },
  {
   "cell_type": "code",
   "execution_count": 1,
   "metadata": {
    "id": "b7SQauD6z-po"
   },
   "outputs": [],
   "source": [
    "import tensorflow as tf\n",
    "import matplotlib.pyplot as plt\n",
    "import pandas as pd\n",
    "import seaborn as sns"
   ]
  },
  {
   "cell_type": "markdown",
   "metadata": {
    "id": "sQj2rx-Sz-pr"
   },
   "source": [
    "## Training Image Preprocessing"
   ]
  },
  {
   "cell_type": "code",
   "execution_count": 5,
   "metadata": {
    "colab": {
     "base_uri": "https://localhost:8080/"
    },
    "id": "F8r2s-Rrz-ps",
    "outputId": "e93eac96-a103-4dc3-f2e4-98882ee5da39"
   },
   "outputs": [
    {
     "name": "stdout",
     "output_type": "stream",
     "text": [
      "Found 70295 files belonging to 38 classes.\n"
     ]
    }
   ],
   "source": [
    "training_set = tf.keras.utils.image_dataset_from_directory(\n",
    "    r'C:\\Users\\rohit\\Documents\\MGIT\\Projects\\CROP\\crop recommendation\\plant disease dataset\\train',\n",
    "    labels=\"inferred\",\n",
    "    label_mode=\"categorical\",\n",
    "    class_names=None,\n",
    "    color_mode=\"rgb\",\n",
    "    batch_size=32,\n",
    "    image_size=(128, 128),\n",
    "    shuffle=True,\n",
    "    seed=None,\n",
    "    validation_split=None,\n",
    "    subset=None,\n",
    "    interpolation=\"bilinear\",\n",
    "    follow_links=False,\n",
    "    crop_to_aspect_ratio=False\n",
    ")"
   ]
  },
  {
   "cell_type": "markdown",
   "metadata": {
    "id": "Yk3r-mAwz-ps"
   },
   "source": [
    "## Validation Image Preprocessing"
   ]
  },
  {
   "cell_type": "code",
   "execution_count": null,
   "metadata": {
    "id": "ZRTAJZvO0zyU"
   },
   "outputs": [],
   "source": []
  },
  {
   "cell_type": "code",
   "execution_count": 6,
   "metadata": {
    "colab": {
     "base_uri": "https://localhost:8080/"
    },
    "id": "goAF0X9Rz-pt",
    "outputId": "0625873f-8c50-4674-b228-0992439c0e9a"
   },
   "outputs": [
    {
     "name": "stdout",
     "output_type": "stream",
     "text": [
      "Found 17572 files belonging to 38 classes.\n"
     ]
    }
   ],
   "source": [
    "validation_set = tf.keras.utils.image_dataset_from_directory(\n",
    "    r'C:\\Users\\rohit\\Documents\\MGIT\\Projects\\CROP\\crop recommendation\\plant disease dataset\\valid',\n",
    "    labels=\"inferred\",\n",
    "    label_mode=\"categorical\",\n",
    "    class_names=None,\n",
    "    color_mode=\"rgb\",\n",
    "    batch_size=32,\n",
    "    image_size=(128, 128),\n",
    "    shuffle=True,\n",
    "    seed=None,\n",
    "    validation_split=None,\n",
    "    subset=None,\n",
    "    interpolation=\"bilinear\",\n",
    "    follow_links=False,\n",
    "    crop_to_aspect_ratio=False\n",
    ")"
   ]
  },
  {
   "cell_type": "markdown",
   "metadata": {
    "id": "KxS1xC-Iz-pu"
   },
   "source": [
    "# Model Building"
   ]
  },
  {
   "cell_type": "code",
   "execution_count": 7,
   "metadata": {
    "id": "tJZtS16oz-pu"
   },
   "outputs": [],
   "source": [
    "from tensorflow.keras.layers import Dense,Conv2D,MaxPool2D\n",
    "from tensorflow.keras.models import Sequential\n",
    "model=Sequential()"
   ]
  },
  {
   "cell_type": "markdown",
   "metadata": {
    "id": "19-NiaWlz-pv"
   },
   "source": [
    "## Building convolutional layer"
   ]
  },
  {
   "cell_type": "code",
   "execution_count": 8,
   "metadata": {
    "id": "O_Lg7U2yz-pv"
   },
   "outputs": [],
   "source": [
    "model.add(tf.keras.layers.Conv2D(filters=32,kernel_size=3,padding='same',activation='relu',input_shape=[128,128,3]))\n",
    "model.add(tf.keras.layers.Conv2D(filters=32,kernel_size=3,activation='relu'))\n",
    "model.add(tf.keras.layers.MaxPool2D(pool_size=2,strides=2))\n",
    "\n",
    "model.add(tf.keras.layers.Conv2D(filters=64,kernel_size=3,padding='same',activation='relu'))\n",
    "model.add(tf.keras.layers.Conv2D(filters=64,kernel_size=3,activation='relu'))\n",
    "model.add(tf.keras.layers.MaxPool2D(pool_size=2,strides=2))\n",
    "\n",
    "model.add(tf.keras.layers.Conv2D(filters=128,kernel_size=3,padding='same',activation='relu'))\n",
    "model.add(tf.keras.layers.Conv2D(filters=128,kernel_size=3,activation='relu'))\n",
    "model.add(tf.keras.layers.MaxPool2D(pool_size=2,strides=2))\n",
    "\n",
    "model.add(tf.keras.layers.Conv2D(filters=256,kernel_size=3,padding='same',activation='relu'))\n",
    "model.add(tf.keras.layers.Conv2D(filters=256,kernel_size=3,activation='relu'))\n",
    "model.add(tf.keras.layers.MaxPool2D(pool_size=2,strides=2))\n",
    "\n",
    "model.add(tf.keras.layers.Conv2D(filters=512,kernel_size=3,padding='same',activation='relu'))\n",
    "model.add(tf.keras.layers.Conv2D(filters=512,kernel_size=3,activation='relu'))\n",
    "model.add(tf.keras.layers.MaxPool2D(pool_size=2,strides=2))\n",
    "\n",
    "model.add(tf.keras.layers.Dropout(0.25))\n",
    "model.add(tf.keras.layers.Flatten())\n",
    "model.add(tf.keras.layers.Dense(units=1500,activation='relu'))\n",
    "model.add(tf.keras.layers.Dropout(0.4)) #To avoid overfitting\n",
    "model.add(tf.keras.layers.Dense(units=38,activation='softmax'))\n"
   ]
  },
  {
   "cell_type": "code",
   "execution_count": 9,
   "metadata": {
    "colab": {
     "base_uri": "https://localhost:8080/"
    },
    "id": "K1rYQRQFz-px",
    "outputId": "b09b97c0-84d7-4901-afbf-fa141aa5e8ff"
   },
   "outputs": [
    {
     "name": "stdout",
     "output_type": "stream",
     "text": [
      "Model: \"sequential\"\n",
      "_________________________________________________________________\n",
      " Layer (type)                Output Shape              Param #   \n",
      "=================================================================\n",
      " conv2d (Conv2D)             (None, 128, 128, 32)      896       \n",
      "                                                                 \n",
      " conv2d_1 (Conv2D)           (None, 126, 126, 32)      9248      \n",
      "                                                                 \n",
      " max_pooling2d (MaxPooling2  (None, 63, 63, 32)        0         \n",
      " D)                                                              \n",
      "                                                                 \n",
      " conv2d_2 (Conv2D)           (None, 63, 63, 64)        18496     \n",
      "                                                                 \n",
      " conv2d_3 (Conv2D)           (None, 61, 61, 64)        36928     \n",
      "                                                                 \n",
      " max_pooling2d_1 (MaxPoolin  (None, 30, 30, 64)        0         \n",
      " g2D)                                                            \n",
      "                                                                 \n",
      " conv2d_4 (Conv2D)           (None, 30, 30, 128)       73856     \n",
      "                                                                 \n",
      " conv2d_5 (Conv2D)           (None, 28, 28, 128)       147584    \n",
      "                                                                 \n",
      " max_pooling2d_2 (MaxPoolin  (None, 14, 14, 128)       0         \n",
      " g2D)                                                            \n",
      "                                                                 \n",
      " conv2d_6 (Conv2D)           (None, 14, 14, 256)       295168    \n",
      "                                                                 \n",
      " conv2d_7 (Conv2D)           (None, 12, 12, 256)       590080    \n",
      "                                                                 \n",
      " max_pooling2d_3 (MaxPoolin  (None, 6, 6, 256)         0         \n",
      " g2D)                                                            \n",
      "                                                                 \n",
      " conv2d_8 (Conv2D)           (None, 6, 6, 512)         1180160   \n",
      "                                                                 \n",
      " conv2d_9 (Conv2D)           (None, 4, 4, 512)         2359808   \n",
      "                                                                 \n",
      " max_pooling2d_4 (MaxPoolin  (None, 2, 2, 512)         0         \n",
      " g2D)                                                            \n",
      "                                                                 \n",
      " dropout (Dropout)           (None, 2, 2, 512)         0         \n",
      "                                                                 \n",
      " flatten (Flatten)           (None, 2048)              0         \n",
      "                                                                 \n",
      " dense (Dense)               (None, 1500)              3073500   \n",
      "                                                                 \n",
      " dropout_1 (Dropout)         (None, 1500)              0         \n",
      "                                                                 \n",
      " dense_1 (Dense)             (None, 38)                57038     \n",
      "                                                                 \n",
      "=================================================================\n",
      "Total params: 7842762 (29.92 MB)\n",
      "Trainable params: 7842762 (29.92 MB)\n",
      "Non-trainable params: 0 (0.00 Byte)\n",
      "_________________________________________________________________\n"
     ]
    }
   ],
   "source": [
    "model.summary()"
   ]
  },
  {
   "cell_type": "markdown",
   "metadata": {
    "id": "Q7mMDJCiz-px"
   },
   "source": [
    "## Compiling the model"
   ]
  },
  {
   "cell_type": "code",
   "execution_count": 10,
   "metadata": {
    "id": "naNnMyp3z-px"
   },
   "outputs": [],
   "source": [
    "model.compile(optimizer=tf.keras.optimizers.legacy.Adam(\n",
    "    learning_rate=0.0001),loss='categorical_crossentropy',metrics=['accuracy'])"
   ]
  },
  {
   "cell_type": "code",
   "execution_count": 12,
   "metadata": {
    "colab": {
     "base_uri": "https://localhost:8080/"
    },
    "id": "B-Am0J_pz-py",
    "outputId": "a06b3cae-8b8d-4551-e35c-7ae481206dc5"
   },
   "outputs": [
    {
     "name": "stdout",
     "output_type": "stream",
     "text": [
      "Epoch 1/10\n",
      "2197/2197 [==============================] - 157s 72ms/step - loss: 1.2922 - accuracy: 0.6162 - val_loss: 0.4590 - val_accuracy: 0.8609\n",
      "Epoch 2/10\n",
      "2197/2197 [==============================] - 157s 71ms/step - loss: 0.4386 - accuracy: 0.8602 - val_loss: 0.2788 - val_accuracy: 0.9085\n",
      "Epoch 3/10\n",
      "2197/2197 [==============================] - 165s 75ms/step - loss: 0.2636 - accuracy: 0.9148 - val_loss: 0.2174 - val_accuracy: 0.9285\n",
      "Epoch 4/10\n",
      "2197/2197 [==============================] - 157s 71ms/step - loss: 0.1867 - accuracy: 0.9397 - val_loss: 0.1667 - val_accuracy: 0.9462\n",
      "Epoch 5/10\n",
      "2197/2197 [==============================] - 156s 71ms/step - loss: 0.1390 - accuracy: 0.9546 - val_loss: 0.1233 - val_accuracy: 0.9623\n",
      "Epoch 6/10\n",
      "2197/2197 [==============================] - 156s 71ms/step - loss: 0.1113 - accuracy: 0.9629 - val_loss: 0.1693 - val_accuracy: 0.9487\n",
      "Epoch 7/10\n",
      "2197/2197 [==============================] - 157s 71ms/step - loss: 0.0877 - accuracy: 0.9715 - val_loss: 0.1785 - val_accuracy: 0.9467\n",
      "Epoch 8/10\n",
      "2197/2197 [==============================] - 156s 71ms/step - loss: 0.0764 - accuracy: 0.9750 - val_loss: 0.1535 - val_accuracy: 0.9552\n",
      "Epoch 9/10\n",
      "2197/2197 [==============================] - 155s 70ms/step - loss: 0.0673 - accuracy: 0.9783 - val_loss: 0.1158 - val_accuracy: 0.9659\n",
      "Epoch 10/10\n",
      "2197/2197 [==============================] - 154s 70ms/step - loss: 0.0570 - accuracy: 0.9813 - val_loss: 0.1169 - val_accuracy: 0.9664\n"
     ]
    }
   ],
   "source": [
    "training_history = model.fit(x=training_set,validation_data=validation_set,epochs=10)"
   ]
  },
  {
   "cell_type": "markdown",
   "metadata": {
    "id": "53hqEOFA8o36"
   },
   "source": [
    "# Model Evaluation"
   ]
  },
  {
   "cell_type": "code",
   "execution_count": 14,
   "metadata": {
    "colab": {
     "base_uri": "https://localhost:8080/"
    },
    "id": "8683K8WEz-py",
    "outputId": "71354ed2-6fe8-46c7-f904-4b9bed00f4cb"
   },
   "outputs": [
    {
     "name": "stdout",
     "output_type": "stream",
     "text": [
      "2197/2197 [==============================] - 54s 24ms/step - loss: 0.0252 - accuracy: 0.9915\n",
      "Training accuracy: 0.9915499091148376\n"
     ]
    }
   ],
   "source": [
    "#Training set Accuracy\n",
    "train_loss, train_acc = model.evaluate(training_set)\n",
    "print('Training accuracy:', train_acc)"
   ]
  },
  {
   "cell_type": "code",
   "execution_count": 16,
   "metadata": {
    "colab": {
     "base_uri": "https://localhost:8080/"
    },
    "id": "CPrfkT729uSZ",
    "outputId": "f8507b35-390f-49e5-f980-f97ec8316d0d"
   },
   "outputs": [
    {
     "name": "stdout",
     "output_type": "stream",
     "text": [
      "Training loss: 0.025225777179002762\n"
     ]
    }
   ],
   "source": [
    "print('Training loss:', train_loss)"
   ]
  },
  {
   "cell_type": "code",
   "execution_count": 15,
   "metadata": {
    "colab": {
     "base_uri": "https://localhost:8080/"
    },
    "id": "bo40TcfC9ONC",
    "outputId": "840c4726-dbbc-4f1e-d89d-8e6259cbb53a"
   },
   "outputs": [
    {
     "name": "stdout",
     "output_type": "stream",
     "text": [
      "550/550 [==============================] - 12s 21ms/step - loss: 0.1169 - accuracy: 0.9664\n",
      "Validation accuracy: 0.9663669466972351\n"
     ]
    }
   ],
   "source": [
    "#Validation set Accuracy\n",
    "val_loss, val_acc = model.evaluate(validation_set)\n",
    "print('Validation accuracy:', val_acc)"
   ]
  },
  {
   "cell_type": "code",
   "execution_count": 17,
   "metadata": {
    "colab": {
     "base_uri": "https://localhost:8080/"
    },
    "id": "VopmyejI9UfW",
    "outputId": "5c71ac01-cc8f-4c09-fecb-c40dd91261c6"
   },
   "outputs": [
    {
     "name": "stdout",
     "output_type": "stream",
     "text": [
      "Validation loss: 0.1168801560997963\n"
     ]
    }
   ],
   "source": [
    "print('Validation loss:', val_loss)"
   ]
  },
  {
   "cell_type": "markdown",
   "metadata": {
    "id": "t1aahVxb-D80"
   },
   "source": [
    "# Saving model"
   ]
  },
  {
   "cell_type": "code",
   "execution_count": 18,
   "metadata": {
    "id": "ip9NOAS9944-"
   },
   "outputs": [],
   "source": [
    "model.save('trained_plant_disease_model.h5')"
   ]
  },
  {
   "cell_type": "code",
   "execution_count": 19,
   "metadata": {
    "colab": {
     "base_uri": "https://localhost:8080/"
    },
    "id": "DN5ZMXRc-OI8",
    "outputId": "d9c2142e-2f4c-4d89-ed27-5886bdae0d80"
   },
   "outputs": [
    {
     "data": {
      "text/plain": [
       "{'loss': [1.2922470569610596,\n",
       "  0.43855488300323486,\n",
       "  0.263563871383667,\n",
       "  0.18669354915618896,\n",
       "  0.13899466395378113,\n",
       "  0.11129553616046906,\n",
       "  0.0877111554145813,\n",
       "  0.07642458379268646,\n",
       "  0.06733042746782303,\n",
       "  0.056975848972797394],\n",
       " 'accuracy': [0.6161746978759766,\n",
       "  0.860231876373291,\n",
       "  0.91481614112854,\n",
       "  0.9396827816963196,\n",
       "  0.9545629024505615,\n",
       "  0.9628565311431885,\n",
       "  0.9715484976768494,\n",
       "  0.9750195741653442,\n",
       "  0.9783056974411011,\n",
       "  0.9813215732574463],\n",
       " 'val_loss': [0.45904022455215454,\n",
       "  0.27881214022636414,\n",
       "  0.21735849976539612,\n",
       "  0.16674494743347168,\n",
       "  0.12330738455057144,\n",
       "  0.16925285756587982,\n",
       "  0.1784604787826538,\n",
       "  0.153540700674057,\n",
       "  0.11575404554605484,\n",
       "  0.11688020080327988],\n",
       " 'val_accuracy': [0.8608582019805908,\n",
       "  0.9085476994514465,\n",
       "  0.928465723991394,\n",
       "  0.9461643695831299,\n",
       "  0.9622695446014404,\n",
       "  0.948668360710144,\n",
       "  0.9466765522956848,\n",
       "  0.9551559090614319,\n",
       "  0.9658547639846802,\n",
       "  0.9663669466972351]}"
      ]
     },
     "execution_count": 19,
     "metadata": {},
     "output_type": "execute_result"
    }
   ],
   "source": [
    "training_history.history #Return Dictionary of history"
   ]
  },
  {
   "cell_type": "code",
   "execution_count": 20,
   "metadata": {
    "id": "ow7NxasN-2zF"
   },
   "outputs": [],
   "source": [
    "#Recording History in json\n",
    "import json\n",
    "with open('training_hist.json','w') as f:\n",
    "  json.dump(training_history.history,f)"
   ]
  },
  {
   "cell_type": "code",
   "execution_count": 21,
   "metadata": {
    "colab": {
     "base_uri": "https://localhost:8080/"
    },
    "id": "4O_McNWY_Kaj",
    "outputId": "b90ab960-375d-4696-9c66-db2842855f46"
   },
   "outputs": [
    {
     "name": "stdout",
     "output_type": "stream",
     "text": [
      "dict_keys(['loss', 'accuracy', 'val_loss', 'val_accuracy'])\n"
     ]
    }
   ],
   "source": [
    "print(training_history.history.keys())"
   ]
  },
  {
   "cell_type": "markdown",
   "metadata": {
    "id": "ELR9GDob_QSJ"
   },
   "source": [
    "# Accuracy Visualization"
   ]
  },
  {
   "cell_type": "code",
   "execution_count": 22,
   "metadata": {
    "colab": {
     "base_uri": "https://localhost:8080/",
     "height": 472
    },
    "id": "DUVQ1xBq_Mqm",
    "outputId": "779e9944-8154-4666-f4fb-2b15d691c457"
   },
   "outputs": [
    {
     "data": {
      "image/png": "[encoded data removed]",
      "text/plain": [
       "<Figure size 640x480 with 1 Axes>"
      ]
     },
     "metadata": {},
     "output_type": "display_data"
    }
   ],
   "source": [
    "epochs = [i for i in range(1,11)]\n",
    "plt.plot(epochs,training_history.history['accuracy'],color='red',label='Training Accuracy')\n",
    "plt.plot(epochs,training_history.history['val_accuracy'],color='blue',label='Validation Accuracy')\n",
    "plt.xlabel('No. of Epochs')\n",
    "plt.title('Visualization of Accuracy Result')\n",
    "plt.legend()\n",
    "plt.show()"
   ]
  },
  {
   "cell_type": "code",
   "execution_count": null,
   "metadata": {
    "id": "i7_Zoazx_UWN"
   },
   "outputs": [],
   "source": []
  }
 ],
 "metadata": {
  "accelerator": "GPU",
  "colab": {
   "gpuType": "T4",
   "provenance": []
  },
  "kernelspec": {
   "display_name": "Python 3 (ipykernel)",
   "language": "python",
   "name": "python3"
  },
  "language_info": {
   "codemirror_mode": {
    "name": "ipython",
    "version": 3
   },
   "file_extension": ".py",
   "mimetype": "text/x-python",
   "name": "python",
   "nbconvert_exporter": "python",
   "pygments_lexer": "ipython3",
   "version": "3.11.5"
  }
 },
 "nbformat": 4,
 "nbformat_minor": 1
}
